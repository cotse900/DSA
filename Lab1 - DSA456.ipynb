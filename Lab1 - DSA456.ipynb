{
 "cells": [
  {
   "cell_type": "markdown",
   "id": "18411b6a-ef50-431d-a7ef-0ef554ea1c4c",
   "metadata": {},
   "source": [
    "## Lab1 Solutions"
   ]
  },
  {
   "cell_type": "code",
   "execution_count": 22,
   "id": "01716df8-66ca-4524-b320-b8a16e927ee0",
   "metadata": {},
   "outputs": [],
   "source": [
    "# rock scissors paper\n",
    "def wins_rock_scissors_paper(player, opponent):\n",
    "    if player.lower() == 'rock' and opponent.lower() == 'scissors':\n",
    "        return True\n",
    "    if player.lower() == 'paper' and opponent.lower() == 'rock':\n",
    "        return True\n",
    "    if player.lower() == 'scissors' and opponent.lower() == 'paper':\n",
    "        return True\n",
    "    return False\n",
    "    \n",
    "    "
   ]
  },
  {
   "cell_type": "code",
   "execution_count": 19,
   "id": "c313f10f-9ae5-4bff-8eb7-0e7604e592a9",
   "metadata": {},
   "outputs": [
    {
     "name": "stdin",
     "output_type": "stream",
     "text": [
      "rock, paper or scissors?  paper\n"
     ]
    },
    {
     "name": "stdout",
     "output_type": "stream",
     "text": [
      "paper didn't win over scissors\n"
     ]
    }
   ],
   "source": [
    "# testing\n",
    "import random\n",
    "player = input(\"rock, paper or scissors? \")\n",
    "opponent = ['rock', 'paper' , 'scissors'][random.randint(0,2)]\n",
    "if wins_rock_scissors_paper(player, opponent):\n",
    "    print(\"{} won over {}\".format(player, opponent))\n",
    "else:\n",
    "    print(\"{} didn't win over {}\".format(player, opponent))"
   ]
  },
  {
   "cell_type": "code",
   "execution_count": 29,
   "id": "ae912884-89b9-4f5c-a7d6-11cebe47613f",
   "metadata": {},
   "outputs": [],
   "source": [
    "# factoriel\n",
    "def factoriel(n):\n",
    "    res = 1\n",
    "    while n>0:\n",
    "        res = res * n\n",
    "        n -= 1\n",
    "    return res"
   ]
  },
  {
   "cell_type": "code",
   "execution_count": 31,
   "id": "0b272522-999a-46f1-8683-be31f28bd785",
   "metadata": {},
   "outputs": [
    {
     "name": "stdout",
     "output_type": "stream",
     "text": [
      "0! = 1\n",
      "1! = 1\n",
      "2! = 2\n",
      "3! = 6\n",
      "4! = 24\n",
      "5! = 120\n",
      "6! = 720\n",
      "7! = 5040\n",
      "8! = 40320\n",
      "9! = 362880\n",
      "10! = 3628800\n",
      "11! = 39916800\n",
      "12! = 479001600\n",
      "13! = 6227020800\n",
      "14! = 87178291200\n",
      "15! = 1307674368000\n",
      "16! = 20922789888000\n",
      "17! = 355687428096000\n",
      "18! = 6402373705728000\n",
      "19! = 121645100408832000\n",
      "20! = 2432902008176640000\n"
     ]
    }
   ],
   "source": [
    "#test\n",
    "for i in range(0,21):\n",
    "    print(\"{}! = {}\".format(i, factoriel(i)))"
   ]
  },
  {
   "cell_type": "code",
   "execution_count": 32,
   "id": "ae574eb5-ba66-4106-8c1b-83d6f8eeeec4",
   "metadata": {},
   "outputs": [],
   "source": [
    "def fibonacci(n):\n",
    "    n_1 = 1\n",
    "    n_2 = 1\n",
    "    res = n_2\n",
    "    while  n > 2:\n",
    "        res = n_1 + n_2\n",
    "        n_2 = n_1\n",
    "        n_1 = res\n",
    "        n -= 1\n",
    "    return res"
   ]
  },
  {
   "cell_type": "code",
   "execution_count": 35,
   "id": "67bc2776-dfc9-475c-8bc7-87f062563931",
   "metadata": {},
   "outputs": [
    {
     "name": "stdout",
     "output_type": "stream",
     "text": [
      "fibonacci(1) = 1\n",
      "fibonacci(2) = 1\n",
      "fibonacci(3) = 2\n",
      "fibonacci(4) = 3\n",
      "fibonacci(5) = 5\n",
      "fibonacci(6) = 8\n",
      "fibonacci(7) = 13\n",
      "fibonacci(8) = 21\n",
      "fibonacci(9) = 34\n",
      "fibonacci(10) = 55\n",
      "fibonacci(11) = 89\n",
      "fibonacci(12) = 144\n",
      "fibonacci(13) = 233\n",
      "fibonacci(14) = 377\n",
      "fibonacci(15) = 610\n",
      "fibonacci(16) = 987\n",
      "fibonacci(17) = 1597\n",
      "fibonacci(18) = 2584\n",
      "fibonacci(19) = 4181\n",
      "fibonacci(20) = 6765\n"
     ]
    }
   ],
   "source": [
    "#test\n",
    "for i in range(1,21):\n",
    "    print(\"fibonacci({}) = {}\".format(i, fibonacci(i)))"
   ]
  },
  {
   "cell_type": "code",
   "execution_count": null,
   "id": "1ab9b3b5-3e22-4097-ab28-d3820fddc365",
   "metadata": {},
   "outputs": [],
   "source": []
  }
 ],
 "metadata": {
  "kernelspec": {
   "display_name": "Python 3 (ipykernel)",
   "language": "python",
   "name": "python3"
  },
  "language_info": {
   "codemirror_mode": {
    "name": "ipython",
    "version": 3
   },
   "file_extension": ".py",
   "mimetype": "text/x-python",
   "name": "python",
   "nbconvert_exporter": "python",
   "pygments_lexer": "ipython3",
   "version": "3.10.5"
  }
 },
 "nbformat": 4,
 "nbformat_minor": 5
}
